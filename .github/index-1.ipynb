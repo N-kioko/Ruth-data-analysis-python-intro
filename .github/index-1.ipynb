{
 "cells": [
  {
   "cell_type": "code",
   "execution_count": 2,
   "metadata": {},
   "outputs": [],
   "source": [
    "import csv\n",
    "import requests\n",
    "from io import StringIO"
   ]
  },
  {
   "cell_type": "code",
   "execution_count": 31,
   "metadata": {},
   "outputs": [
    {
     "name": "stdout",
     "output_type": "stream",
     "text": [
      "[{'yield': '39.741234289561504'}, {'yield': '39.872054738763474'}, {'yield': '44.33116416558151'}, {'yield': '46.6006230827385'}, {'yield': '40.694984210927196'}]\n"
     ]
    }
   ],
   "source": [
    "url = \"https://raw.githubusercontent.com/N-kioko/Ruth-data-analysis-python-intro/refs/heads/master/data/apple_orchard.csv\"\n",
    "response = requests.get(url)\n",
    "#response.raise_for_status()\n",
    "data= StringIO(response.text)\n",
    "apple_orchid_data=csv.DictReader(data)\n",
    " #check fist 5 entries\n",
    "print(list(apple_orchid_data)[:5])"
   ]
  },
  {
   "cell_type": "code",
   "execution_count": 28,
   "metadata": {},
   "outputs": [
    {
     "name": "stdout",
     "output_type": "stream",
     "text": [
      "212038.11928881292\n",
      "5000\n",
      "42.40762385776258\n",
      "65.54817042071103\n",
      "21.93121221285836\n"
     ]
    }
   ],
   "source": [
    "\n",
    "url = \"https://raw.githubusercontent.com/N-kioko/Ruth-data-analysis-python-intro/refs/heads/master/data/apple_orchard.csv\"\n",
    "response = requests.get(url)\n",
    "#response.raise_for_status()\n",
    "data= StringIO(response.text)\n",
    "apple_orchid_data=list(csv.DictReader(data))\n",
    "apple_tree_yield= [float(n_row[\"yield\"]) for n_row in apple_orchid_data]\n",
    "\n",
    "print(sum(apple_tree_yield))\n",
    "print(len(apple_orchid_data))\n",
    "print(sum(apple_tree_yield)/len(apple_orchid_data))\n",
    "print(max(apple_tree_yield))\n",
    "print(min(apple_tree_yield))\n"
   ]
  },
  {
   "cell_type": "code",
   "execution_count": 25,
   "metadata": {},
   "outputs": [
    {
     "name": "stdout",
     "output_type": "stream",
     "text": [
      "[39.741234289561504, 39.872054738763474, 44.33116416558151, 46.6006230827385, 40.694984210927196]\n"
     ]
    }
   ],
   "source": [
    "#view the fist 5 iems of the list\n",
    "print(apple_tree_yield[:5])"
   ]
  },
  {
   "cell_type": "code",
   "execution_count": 26,
   "metadata": {},
   "outputs": [
    {
     "name": "stdout",
     "output_type": "stream",
     "text": [
      "Missing values: 0\n"
     ]
    }
   ],
   "source": [
    "#check for misssing values\n",
    "missing_values = [i for i in apple_tree_yield if i == 0]\n",
    "print(f'Missing values: {len(missing_values)}')"
   ]
  }
 ],
 "metadata": {
  "kernelspec": {
   "display_name": "learn-env",
   "language": "python",
   "name": "python3"
  },
  "language_info": {
   "codemirror_mode": {
    "name": "ipython",
    "version": 3
   },
   "file_extension": ".py",
   "mimetype": "text/x-python",
   "name": "python",
   "nbconvert_exporter": "python",
   "pygments_lexer": "ipython3",
   "version": "3.8.5"
  }
 },
 "nbformat": 4,
 "nbformat_minor": 2
}
